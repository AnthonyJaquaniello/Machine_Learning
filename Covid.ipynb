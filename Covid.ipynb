{
 "cells": [
  {
   "cell_type": "markdown",
   "id": "35527213-d566-45ca-bced-df65b14311a1",
   "metadata": {},
   "source": [
    "<div style=\"display: flex;\">\n",
    "    <h1>Machine Learning on Covid dataset</h1>\n",
    "    <img src=\"img/covid.jpeg\" heigh=\"100px\" width=\"250px\"/>\n",
    "</div>"
   ]
  },
  {
   "cell_type": "markdown",
   "id": "b4a15833-9e17-4af3-9032-2a3a6f89c139",
   "metadata": {},
   "source": [
    "<div style=\"border: 1px dashed black;\n",
    "            padding: 10px 10px 10px 10px;\">\n",
    "    <h4>Machine Learning general workflow :</h4>\n",
    "    <ol>\n",
    "        <li><strong>Defining a quantitative objective</strong></li>\n",
    "        <li><strong>EDA (Exploratory Data Analysis):</strong> Understanding as much as possible the data in order to define modelling startegy.\n",
    "        <ul>\n",
    "            <li><span style=\"color: blue;\">Identifying the target</span></li>\n",
    "            <li><span style=\"color: blue;\">Number of rows and columns</span></li>\n",
    "            <li><span style=\"color: blue;\">Variables types</span></li>\n",
    "            <li><span style=\"color: blue;\">Identification of missing values</span></li>\n",
    "            <li><span style=\"color: red;\">Visualizing the target</span></li>\n",
    "            <li><span style=\"color: red;\">Understanding all the variables</span></li>\n",
    "            <li><span style=\"color: red;\">Visualizing relationships between the target and the features</span></li>\n",
    "            <li><span style=\"color: red;\">Identifying outliers</span></li>\n",
    "        </ul></li>\n",
    "        <li><strong>Pre-Processing: </strong>Transforming the data in order to have a proper input for modelling.\n",
    "        <ul>\n",
    "            <li>Splitting data into Train set and Test set</li>\n",
    "            <li>Removing/Replacing NA</li>\n",
    "            <li>Encoding variables</li>\n",
    "            <li>Removing outliers which drop down model performances</li>\n",
    "            <li>Feature selection</li>\n",
    "            <li>Feature engineering</li>\n",
    "            <li>Feature scaling</li>\n",
    "        </ul></li>\n",
    "        <li><strong>Modelling: </strong> Giving answer to the former objective.\n",
    "        <ul>\n",
    "            <li>Defining a scoring function</li>\n",
    "            <li>Training of the differents models</li>\n",
    "            <li>Optimization with GridSearchCV</li>\n",
    "            <li>(Optional) Analysis of errors and go back to EDA/Pre processing</li>\n",
    "            <li>Learning curve and decision</li>\n",
    "        </ul></li>\n",
    "    </ol>\n",
    "    <p>(<span style=\"color: blue;\">*=\"front-end\" part</span>, <br/>\n",
    "        <span style=\"color: red;\">*=\"back-end\" part</span>)</p>\n",
    "</div>"
   ]
  },
  {
   "cell_type": "markdown",
   "id": "f520a5c7-a923-456f-a684-98f0f497ceb6",
   "metadata": {},
   "source": [
    "Data can be found at https://www.kaggle.com/einsteindata4u/covid19.</br>\n",
    "Scikit-Learn documentation can be found at https://scikit-learn.org/stable/index.html."
   ]
  },
  {
   "cell_type": "code",
   "execution_count": null,
   "id": "b332f93e-d8fe-4f1a-9309-b4ccf61be202",
   "metadata": {},
   "outputs": [],
   "source": []
  }
 ],
 "metadata": {
  "kernelspec": {
   "display_name": "Python 3",
   "language": "python",
   "name": "python3"
  },
  "language_info": {
   "codemirror_mode": {
    "name": "ipython",
    "version": 3
   },
   "file_extension": ".py",
   "mimetype": "text/x-python",
   "name": "python",
   "nbconvert_exporter": "python",
   "pygments_lexer": "ipython3",
   "version": "3.9.2"
  }
 },
 "nbformat": 4,
 "nbformat_minor": 5
}
