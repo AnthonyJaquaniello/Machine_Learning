{
 "cells": [
  {
   "cell_type": "markdown",
   "id": "democratic-ozone",
   "metadata": {},
   "source": [
    "<h1>Machine Learning : Regression with Scikit learn</h1>"
   ]
  },
  {
   "cell_type": "code",
   "execution_count": 1,
   "id": "nuclear-plenty",
   "metadata": {},
   "outputs": [],
   "source": [
    "import numpy as np\n",
    "import pandas as pd\n",
    "import matplotlib.pyplot as plt\n",
    "from sklearn.linear_model import LinearRegression\n",
    "\n",
    "%matplotlib inline"
   ]
  },
  {
   "cell_type": "markdown",
   "id": "respected-scheduling",
   "metadata": {},
   "source": [
    "<h2>1) Titanic survival rate dataset</h2>"
   ]
  },
  {
   "cell_type": "markdown",
   "id": "loose-panic",
   "metadata": {},
   "source": [
    "Not a good dataset for regression because it's a classification problems..."
   ]
  },
  {
   "cell_type": "markdown",
   "id": "false-wallet",
   "metadata": {},
   "source": [
    "<h3>A) Simple linear models</h3>"
   ]
  },
  {
   "cell_type": "markdown",
   "id": "whole-monitoring",
   "metadata": {},
   "source": [
    "Loading and processing the data :"
   ]
  },
  {
   "cell_type": "code",
   "execution_count": 23,
   "id": "political-section",
   "metadata": {},
   "outputs": [
    {
     "name": "stdout",
     "output_type": "stream",
     "text": [
      "X_train:  (891, 1)\n",
      "Y_train (891, 1) \n",
      "\n",
      "X_test:  (418, 1)\n",
      "Y_test:  (418, 1)\n"
     ]
    }
   ],
   "source": [
    "#we use pandas first, to manage NA etc\n",
    "PATH = '/media/anthony/USOPP/ML_DL/'\n",
    "\n",
    "train = pd.read_csv(PATH + 'data/titanic/train.csv')\n",
    "test = pd.read_csv(PATH + 'data/titanic/test.csv')\n",
    "\n",
    "#do we have NA in our chosen predictive variable ?\n",
    "predictive_var = 'Pclass'\n",
    "#If so, we fill the missing values with the median of the distribution\n",
    "if train[predictive_var].isnull().sum() > 0:\n",
    "    train[predictive_var].fillna(train[predictive_var].median())\n",
    "\n",
    "if test[predictive_var].isnull().sum() > 0:\n",
    "    test[predictive_var].fillna(test[predictive_var].median())\n",
    "\n",
    "X_train = train[predictive_var].values\n",
    "X_test = test[predictive_var].values\n",
    "Y_train = train['Survived'].values\n",
    "Y_test = test[predictive_var].values\n",
    "\n",
    "X_train = X_train.reshape(X_train.shape[0], 1)\n",
    "X_test = X_test.reshape(X_test.shape[0], 1)\n",
    "Y_train = Y_train.reshape(Y_train.shape[0], 1)\n",
    "Y_test = Y_test.reshape(Y_test.shape[0], 1)\n",
    "print(\"X_train: \", X_train.shape)\n",
    "print(\"Y_train\", Y_train.shape, '\\n')\n",
    "print(\"X_test: \", X_test.shape)\n",
    "print(\"Y_test: \", Y_test.shape)"
   ]
  },
  {
   "cell_type": "code",
   "execution_count": null,
   "id": "social-triumph",
   "metadata": {},
   "outputs": [],
   "source": []
  },
  {
   "cell_type": "code",
   "execution_count": null,
   "id": "outstanding-religion",
   "metadata": {},
   "outputs": [],
   "source": []
  },
  {
   "cell_type": "markdown",
   "id": "decent-thousand",
   "metadata": {},
   "source": [
    "Building the model: "
   ]
  },
  {
   "cell_type": "code",
   "execution_count": 24,
   "id": "covered-sapphire",
   "metadata": {},
   "outputs": [
    {
     "name": "stdout",
     "output_type": "stream",
     "text": [
      "[[-0.19699555]]\n"
     ]
    }
   ],
   "source": [
    "model = LinearRegression()\n",
    "model.fit(X_train, Y_train)\n",
    "print(model.coef_)\n",
    "#where is the b parameter ?"
   ]
  },
  {
   "cell_type": "markdown",
   "id": "sought-parks",
   "metadata": {},
   "source": [
    "Assessing the model: "
   ]
  },
  {
   "cell_type": "code",
   "execution_count": 27,
   "id": "virtual-conjunction",
   "metadata": {},
   "outputs": [
    {
     "name": "stdout",
     "output_type": "stream",
     "text": [
      "R² = 0.11 for training set\n"
     ]
    }
   ],
   "source": [
    "print('R² = {:.2f} for training set'.format(model.score(X_train, Y_train)))"
   ]
  },
  {
   "cell_type": "code",
   "execution_count": null,
   "id": "legitimate-conclusion",
   "metadata": {},
   "outputs": [],
   "source": []
  }
 ],
 "metadata": {
  "kernelspec": {
   "display_name": "Python 3",
   "language": "python",
   "name": "python3"
  },
  "language_info": {
   "codemirror_mode": {
    "name": "ipython",
    "version": 3
   },
   "file_extension": ".py",
   "mimetype": "text/x-python",
   "name": "python",
   "nbconvert_exporter": "python",
   "pygments_lexer": "ipython3",
   "version": "3.8.8"
  }
 },
 "nbformat": 4,
 "nbformat_minor": 5
}
