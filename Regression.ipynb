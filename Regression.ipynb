{
 "cells": [
  {
   "cell_type": "markdown",
   "id": "objective-formula",
   "metadata": {},
   "source": [
    "<h1>Machine Learning : Regression</h1>"
   ]
  },
  {
   "cell_type": "code",
   "execution_count": 5,
   "id": "circular-extra",
   "metadata": {},
   "outputs": [],
   "source": [
    "import numpy as np\n",
    "import scipy\n",
    "import sklearn\n",
    "import matplotlib.pyplot as plt\n",
    "%matplotlib inline"
   ]
  },
  {
   "cell_type": "markdown",
   "id": "outdoor-protest",
   "metadata": {},
   "source": [
    "<h2>1) Simple Linear Regression Models</h2>"
   ]
  },
  {
   "cell_type": "code",
   "execution_count": null,
   "id": "intermediate-incentive",
   "metadata": {},
   "outputs": [],
   "source": []
  }
 ],
 "metadata": {
  "kernelspec": {
   "display_name": "Python 3",
   "language": "python",
   "name": "python3"
  },
  "language_info": {
   "codemirror_mode": {
    "name": "ipython",
    "version": 3
   },
   "file_extension": ".py",
   "mimetype": "text/x-python",
   "name": "python",
   "nbconvert_exporter": "python",
   "pygments_lexer": "ipython3",
   "version": "3.8.8"
  }
 },
 "nbformat": 4,
 "nbformat_minor": 5
}
