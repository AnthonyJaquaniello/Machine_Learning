{
 "cells": [
  {
   "cell_type": "markdown",
   "id": "martial-agenda",
   "metadata": {},
   "source": [
    "<h1>Machine Learning : Regression with Scikit learn</h1>"
   ]
  },
  {
   "cell_type": "code",
   "execution_count": 6,
   "id": "aging-thesis",
   "metadata": {},
   "outputs": [],
   "source": [
    "import numpy as np\n",
    "import matplotlib.pyplot as plt\n",
    "from sklearn import linear_model\n",
    "\n",
    "%matplotlib inline\n",
    "np.random.seed(4466)"
   ]
  },
  {
   "cell_type": "markdown",
   "id": "modern-raise",
   "metadata": {},
   "source": [
    "<h1>1) Linear Model with Least Squares minimisation </h1>"
   ]
  },
  {
   "cell_type": "markdown",
   "id": "portable-avatar",
   "metadata": {},
   "source": [
    "<h2>A) Random Problem</h2>"
   ]
  },
  {
   "cell_type": "markdown",
   "id": "virtual-heading",
   "metadata": {},
   "source": [
    "Creating and processing the data :"
   ]
  },
  {
   "cell_type": "code",
   "execution_count": 52,
   "id": "fewer-telescope",
   "metadata": {},
   "outputs": [
    {
     "name": "stdout",
     "output_type": "stream",
     "text": [
      "(100, 1)\n",
      "(100, 1)\n"
     ]
    },
    {
     "data": {
      "text/plain": [
       "Text(0, 0.5, 'Y')"
      ]
     },
     "execution_count": 52,
     "metadata": {},
     "output_type": "execute_result"
    },
    {
     "data": {
      "image/png": "[encoded data removed]",
      "text/plain": [
       "<Figure size 432x288 with 1 Axes>"
      ]
     },
     "metadata": {
      "needs_background": "light"
     },
     "output_type": "display_data"
    }
   ],
   "source": [
    "n = 100 #number of observations\n",
    "X = np.linspace(start=0, stop=10, num=n).reshape(n, 1)\n",
    "Y = X + np.random.randn(n, 1)\n",
    "print(X.shape)\n",
    "print(Y.shape)\n",
    "plt.scatter(x=X, y=Y)\n",
    "plt.xlabel('X')\n",
    "plt.ylabel('Y')"
   ]
  },
  {
   "cell_type": "markdown",
   "id": "consecutive-hypothetical",
   "metadata": {},
   "source": [
    "Creating, training, and evaluating the model :"
   ]
  },
  {
   "cell_type": "code",
   "execution_count": 53,
   "id": "superior-morris",
   "metadata": {},
   "outputs": [
    {
     "name": "stdout",
     "output_type": "stream",
     "text": [
      "88.00% of the variance is explained by the model\n"
     ]
    }
   ],
   "source": [
    "#creating\n",
    "model =  linear_model.LinearRegression()\n",
    "#training\n",
    "model.fit(X, Y)\n",
    "#R²\n",
    "model.score(X, Y)\n",
    "print(\"{:.2f}% of the variance is explained by the model\".format(model.score(X, Y)*100))"
   ]
  },
  {
   "cell_type": "markdown",
   "id": "valid-parker",
   "metadata": {},
   "source": [
    "Predicting :"
   ]
  },
  {
   "cell_type": "code",
   "execution_count": 54,
   "id": "architectural-julian",
   "metadata": {},
   "outputs": [
    {
     "name": "stdout",
     "output_type": "stream",
     "text": [
      "(100, 1)\n"
     ]
    }
   ],
   "source": [
    "predict = model.predict(X)\n",
    "print(predict.shape)"
   ]
  },
  {
   "cell_type": "markdown",
   "id": "chubby-green",
   "metadata": {},
   "source": [
    "Visualizing :"
   ]
  },
  {
   "cell_type": "code",
   "execution_count": 55,
   "id": "interstate-mattress",
   "metadata": {},
   "outputs": [
    {
     "data": {
      "text/plain": [
       "Text(0.5, 1.0, 'Linear Regression Model with Least square Algorithm')"
      ]
     },
     "execution_count": 55,
     "metadata": {},
     "output_type": "execute_result"
    },
    {
     "data": {
      "image/png": "[encoded data removed]",
      "text/plain": [
       "<Figure size 432x288 with 1 Axes>"
      ]
     },
     "metadata": {
      "needs_background": "light"
     },
     "output_type": "display_data"
    }
   ],
   "source": [
    "plt.scatter(x=X, y=Y, c='b')\n",
    "plt.plot(X, predict, c='r')\n",
    "plt.xlabel(\"X\")\n",
    "plt.ylabel(\"Y\")\n",
    "plt.title('Linear Regression Model with Least square Algorithm')"
   ]
  },
  {
   "cell_type": "markdown",
   "id": "raised-ethernet",
   "metadata": {},
   "source": [
    "<h1>2) Linear Model with Gradient Descent</h1>"
   ]
  },
  {
   "cell_type": "markdown",
   "id": "accurate-selling",
   "metadata": {},
   "source": [
    "<h2>A) Random Problem</h2>"
   ]
  },
  {
   "cell_type": "markdown",
   "id": "seventh-sharing",
   "metadata": {},
   "source": [
    "(Same problem as in the previous section)"
   ]
  },
  {
   "cell_type": "markdown",
   "id": "strong-incident",
   "metadata": {},
   "source": [
    "Creating, training, and evaluating the model :"
   ]
  },
  {
   "cell_type": "code",
   "execution_count": 56,
   "id": "mighty-console",
   "metadata": {},
   "outputs": [
    {
     "name": "stdout",
     "output_type": "stream",
     "text": [
      "86.72% of the variance is explained by the model\n"
     ]
    },
    {
     "name": "stderr",
     "output_type": "stream",
     "text": [
      "/home/anthony/miniconda3/envs/ML_DL/lib/python3.8/site-packages/sklearn/utils/validation.py:72: DataConversionWarning: A column-vector y was passed when a 1d array was expected. Please change the shape of y to (n_samples, ), for example using ravel().\n",
      "  return f(**kwargs)\n"
     ]
    }
   ],
   "source": [
    "#creating\n",
    "model = linear_model.SGDRegressor(loss=\"squared_loss\")\n",
    "#training\n",
    "model.fit(X, Y)\n",
    "#evaluating\n",
    "model.score(X, Y)\n",
    "print(\"{:.2f}% of the variance is explained by the model\".format(model.score(X, Y)*100))"
   ]
  },
  {
   "cell_type": "code",
   "execution_count": null,
   "id": "otherwise-colombia",
   "metadata": {},
   "outputs": [],
   "source": []
  }
 ],
 "metadata": {
  "kernelspec": {
   "display_name": "Python 3",
   "language": "python",
   "name": "python3"
  },
  "language_info": {
   "codemirror_mode": {
    "name": "ipython",
    "version": 3
   },
   "file_extension": ".py",
   "mimetype": "text/x-python",
   "name": "python",
   "nbconvert_exporter": "python",
   "pygments_lexer": "ipython3",
   "version": "3.9.2"
  }
 },
 "nbformat": 4,
 "nbformat_minor": 5
}
