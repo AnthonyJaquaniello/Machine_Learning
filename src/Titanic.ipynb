{
 "cells": [
  {
   "cell_type": "markdown",
   "id": "6cbad6f2-2089-4c5d-8dde-1ac5f724bc6b",
   "metadata": {},
   "source": [
    "<div style=\"display: flex;\">\n",
    "    <h1>Machine Learning on Titanic dataset</h1>\n",
    "    <img src=\"img/titanic.jpeg\" height=\"100px\" width=\"250px\"/>\n",
    "</div>"
   ]
  },
  {
   "cell_type": "markdown",
   "id": "1b63a4b6-47ec-4a99-9595-5d52551f60a5",
   "metadata": {},
   "source": [
    "<div style=\"border: 1px dashed black;\n",
    "            padding: 10px 10px 10px 10px;\">\n",
    "    <h4>Machine Learning general workflow :</h4>\n",
    "    <ol>\n",
    "        <li><strong>Defining a quantitative objective</strong></li>\n",
    "        <li><strong>EDA (Exploratory Data Analysis):</strong> Understanding as much as possible the data in order to define modelling startegy.\n",
    "        <ul>\n",
    "            <li><span style=\"color: blue;\">Identifying the target</span></li>\n",
    "            <li><span style=\"color: blue;\">Number of rows and columns</span></li>\n",
    "            <li><span style=\"color: blue;\">Variables types</span></li>\n",
    "            <li><span style=\"color: blue;\">Identification of missing values</span></li>\n",
    "            <li><span style=\"color: red;\">Visualizing the target</span></li>\n",
    "            <li><span style=\"color: red;\">Understanding all the variables</span></li>\n",
    "            <li><span style=\"color: red;\">Visualizing relationships between the target and the features</span></li>\n",
    "            <li><span style=\"color: red;\">Identifying outliers</span></li>\n",
    "        </ul></li>\n",
    "        <li><strong>Pre-Processing: </strong>Transforming the data in order to have a proper input for modelling.\n",
    "        <ul>\n",
    "            <li>Splitting data into Train set and Test set</li>\n",
    "            <li>Removing/Replacing NA</li>\n",
    "            <li>Encoding variables</li>\n",
    "            <li>Removing outliers which drop down model performances</li>\n",
    "            <li>Feature selection</li>\n",
    "            <li>Feature engineering</li>\n",
    "            <li>Feature scaling</li>\n",
    "        </ul></li>\n",
    "        <li><strong>Modelling: </strong> Giving answer to the former objective.\n",
    "        <ul>\n",
    "            <li>Defining a scoring function</li>\n",
    "            <li>Training of the differents models</li>\n",
    "            <li>Optimization with GridSearchCV</li>\n",
    "            <li>(Optional) Analysis of errors and go back to EDA/Pre processing</li>\n",
    "            <li>Learning curve and decision</li>\n",
    "        </ul></li>\n",
    "    </ol>\n",
    "    <p>(<span style=\"color: blue;\">*=\"front-end\" part</span>, <br/>\n",
    "        <span style=\"color: red;\">*=\"back-end\" part</span>)</p>\n",
    "    <p>\n",
    "        <a href='https://scikit-learn.org/stable/index.html#' target='_blank'>See Scikit-Learn documentation</a>\n",
    "        <br/>\n",
    "        <a href='https://scikit-learn.org/stable/tutorial/machine_learning_map/index.html' target='_blank'>See Scikit-Learn scheme for choosing the right model</a>\n",
    "        <br/>\n",
    "        <a href='https://www.datacourses.com/classification-model-evaluation-metrics-in-scikit-learn-924/', target='_blank'>See external ressouces about classification metrics</a>\n",
    "    </p>\n",
    "</div>"
   ]
  },
  {
   "cell_type": "markdown",
   "id": "53a91d3b-5c09-4a12-8823-ea843b22dae1",
   "metadata": {},
   "source": [
    "<h3>1) Objective</h3>"
   ]
  },
  {
   "cell_type": "markdown",
   "id": "71eeb8ed-9ae8-4d4c-99bc-7e93cec63957",
   "metadata": {},
   "source": [
    "<strong>We want to predict the 'survived' variable (binary) with a F-score (oe Accuracy) of 80%</strong> from features. </br>In order to choose a relevant metrics for evaluation (and thus be more precise in our objective), we first have to explore the data."
   ]
  },
  {
   "cell_type": "markdown",
   "id": "d77260f0-f676-4852-a462-51675479e22c",
   "metadata": {},
   "source": [
    "<h3>2) EDA</h3>"
   ]
  },
  {
   "cell_type": "code",
   "execution_count": 25,
   "id": "4d9fb3ec-29d5-41bf-bd29-7a161502ce7b",
   "metadata": {},
   "outputs": [],
   "source": [
    "import pandas as pd\n",
    "import numpy as np\n",
    "import matplotlib.pyplot as plt\n",
    "import seaborn as sns"
   ]
  },
  {
   "cell_type": "code",
   "execution_count": 26,
   "id": "939f2ae7-2c08-42ee-946e-c98dec7b1427",
   "metadata": {},
   "outputs": [
    {
     "name": "stdout",
     "output_type": "stream",
     "text": [
      "891 rows X 8 columns\n"
     ]
    },
    {
     "data": {
      "text/html": [
       "<div>\n",
       "<style scoped>\n",
       "    .dataframe tbody tr th:only-of-type {\n",
       "        vertical-align: middle;\n",
       "    }\n",
       "\n",
       "    .dataframe tbody tr th {\n",
       "        vertical-align: top;\n",
       "    }\n",
       "\n",
       "    .dataframe thead th {\n",
       "        text-align: right;\n",
       "    }\n",
       "</style>\n",
       "<table border=\"1\" class=\"dataframe\">\n",
       "  <thead>\n",
       "    <tr style=\"text-align: right;\">\n",
       "      <th></th>\n",
       "      <th>survived</th>\n",
       "      <th>pclass</th>\n",
       "      <th>sex</th>\n",
       "      <th>age</th>\n",
       "      <th>sibsp</th>\n",
       "      <th>parch</th>\n",
       "      <th>fare</th>\n",
       "      <th>alone</th>\n",
       "    </tr>\n",
       "  </thead>\n",
       "  <tbody>\n",
       "    <tr>\n",
       "      <th>0</th>\n",
       "      <td>0</td>\n",
       "      <td>3</td>\n",
       "      <td>male</td>\n",
       "      <td>22.0</td>\n",
       "      <td>1</td>\n",
       "      <td>0</td>\n",
       "      <td>7.2500</td>\n",
       "      <td>False</td>\n",
       "    </tr>\n",
       "    <tr>\n",
       "      <th>1</th>\n",
       "      <td>1</td>\n",
       "      <td>1</td>\n",
       "      <td>female</td>\n",
       "      <td>38.0</td>\n",
       "      <td>1</td>\n",
       "      <td>0</td>\n",
       "      <td>71.2833</td>\n",
       "      <td>False</td>\n",
       "    </tr>\n",
       "    <tr>\n",
       "      <th>2</th>\n",
       "      <td>1</td>\n",
       "      <td>3</td>\n",
       "      <td>female</td>\n",
       "      <td>26.0</td>\n",
       "      <td>0</td>\n",
       "      <td>0</td>\n",
       "      <td>7.9250</td>\n",
       "      <td>True</td>\n",
       "    </tr>\n",
       "    <tr>\n",
       "      <th>3</th>\n",
       "      <td>1</td>\n",
       "      <td>1</td>\n",
       "      <td>female</td>\n",
       "      <td>35.0</td>\n",
       "      <td>1</td>\n",
       "      <td>0</td>\n",
       "      <td>53.1000</td>\n",
       "      <td>False</td>\n",
       "    </tr>\n",
       "    <tr>\n",
       "      <th>4</th>\n",
       "      <td>0</td>\n",
       "      <td>3</td>\n",
       "      <td>male</td>\n",
       "      <td>35.0</td>\n",
       "      <td>0</td>\n",
       "      <td>0</td>\n",
       "      <td>8.0500</td>\n",
       "      <td>True</td>\n",
       "    </tr>\n",
       "  </tbody>\n",
       "</table>\n",
       "</div>"
      ],
      "text/plain": [
       "   survived  pclass     sex   age  sibsp  parch     fare  alone\n",
       "0         0       3    male  22.0      1      0   7.2500  False\n",
       "1         1       1  female  38.0      1      0  71.2833  False\n",
       "2         1       3  female  26.0      0      0   7.9250   True\n",
       "3         1       1  female  35.0      1      0  53.1000  False\n",
       "4         0       3    male  35.0      0      0   8.0500   True"
      ]
     },
     "execution_count": 26,
     "metadata": {},
     "output_type": "execute_result"
    }
   ],
   "source": [
    "titanic = sns.load_dataset(\"titanic\")\n",
    "titanic.drop(axis=1, inplace=True, columns=['embarked', 'class', 'who', 'adult_male', \n",
    "                                            'deck', 'embark_town', 'alive'])\n",
    "print(\"{} rows X {} columns\".format(titanic.shape[0], titanic.shape[1]))\n",
    "titanic.head()"
   ]
  },
  {
   "cell_type": "code",
   "execution_count": 27,
   "id": "ab1edaf5-0714-4876-864a-509abc5817f8",
   "metadata": {},
   "outputs": [
    {
     "data": {
      "text/html": [
       "<div>\n",
       "<style scoped>\n",
       "    .dataframe tbody tr th:only-of-type {\n",
       "        vertical-align: middle;\n",
       "    }\n",
       "\n",
       "    .dataframe tbody tr th {\n",
       "        vertical-align: top;\n",
       "    }\n",
       "\n",
       "    .dataframe thead th {\n",
       "        text-align: right;\n",
       "    }\n",
       "</style>\n",
       "<table border=\"1\" class=\"dataframe\">\n",
       "  <thead>\n",
       "    <tr style=\"text-align: right;\">\n",
       "      <th></th>\n",
       "      <th>survived</th>\n",
       "      <th>pclass</th>\n",
       "      <th>age</th>\n",
       "      <th>sibsp</th>\n",
       "      <th>parch</th>\n",
       "      <th>fare</th>\n",
       "    </tr>\n",
       "  </thead>\n",
       "  <tbody>\n",
       "    <tr>\n",
       "      <th>count</th>\n",
       "      <td>891.000000</td>\n",
       "      <td>891.000000</td>\n",
       "      <td>714.000000</td>\n",
       "      <td>891.000000</td>\n",
       "      <td>891.000000</td>\n",
       "      <td>891.000000</td>\n",
       "    </tr>\n",
       "    <tr>\n",
       "      <th>mean</th>\n",
       "      <td>0.383838</td>\n",
       "      <td>2.308642</td>\n",
       "      <td>29.699118</td>\n",
       "      <td>0.523008</td>\n",
       "      <td>0.381594</td>\n",
       "      <td>32.204208</td>\n",
       "    </tr>\n",
       "    <tr>\n",
       "      <th>std</th>\n",
       "      <td>0.486592</td>\n",
       "      <td>0.836071</td>\n",
       "      <td>14.526497</td>\n",
       "      <td>1.102743</td>\n",
       "      <td>0.806057</td>\n",
       "      <td>49.693429</td>\n",
       "    </tr>\n",
       "    <tr>\n",
       "      <th>min</th>\n",
       "      <td>0.000000</td>\n",
       "      <td>1.000000</td>\n",
       "      <td>0.420000</td>\n",
       "      <td>0.000000</td>\n",
       "      <td>0.000000</td>\n",
       "      <td>0.000000</td>\n",
       "    </tr>\n",
       "    <tr>\n",
       "      <th>25%</th>\n",
       "      <td>0.000000</td>\n",
       "      <td>2.000000</td>\n",
       "      <td>20.125000</td>\n",
       "      <td>0.000000</td>\n",
       "      <td>0.000000</td>\n",
       "      <td>7.910400</td>\n",
       "    </tr>\n",
       "    <tr>\n",
       "      <th>50%</th>\n",
       "      <td>0.000000</td>\n",
       "      <td>3.000000</td>\n",
       "      <td>28.000000</td>\n",
       "      <td>0.000000</td>\n",
       "      <td>0.000000</td>\n",
       "      <td>14.454200</td>\n",
       "    </tr>\n",
       "    <tr>\n",
       "      <th>75%</th>\n",
       "      <td>1.000000</td>\n",
       "      <td>3.000000</td>\n",
       "      <td>38.000000</td>\n",
       "      <td>1.000000</td>\n",
       "      <td>0.000000</td>\n",
       "      <td>31.000000</td>\n",
       "    </tr>\n",
       "    <tr>\n",
       "      <th>max</th>\n",
       "      <td>1.000000</td>\n",
       "      <td>3.000000</td>\n",
       "      <td>80.000000</td>\n",
       "      <td>8.000000</td>\n",
       "      <td>6.000000</td>\n",
       "      <td>512.329200</td>\n",
       "    </tr>\n",
       "  </tbody>\n",
       "</table>\n",
       "</div>"
      ],
      "text/plain": [
       "         survived      pclass         age       sibsp       parch        fare\n",
       "count  891.000000  891.000000  714.000000  891.000000  891.000000  891.000000\n",
       "mean     0.383838    2.308642   29.699118    0.523008    0.381594   32.204208\n",
       "std      0.486592    0.836071   14.526497    1.102743    0.806057   49.693429\n",
       "min      0.000000    1.000000    0.420000    0.000000    0.000000    0.000000\n",
       "25%      0.000000    2.000000   20.125000    0.000000    0.000000    7.910400\n",
       "50%      0.000000    3.000000   28.000000    0.000000    0.000000   14.454200\n",
       "75%      1.000000    3.000000   38.000000    1.000000    0.000000   31.000000\n",
       "max      1.000000    3.000000   80.000000    8.000000    6.000000  512.329200"
      ]
     },
     "execution_count": 27,
     "metadata": {},
     "output_type": "execute_result"
    }
   ],
   "source": [
    "titanic.describe()"
   ]
  },
  {
   "cell_type": "markdown",
   "id": "7a86cb65-b3f6-4c74-a7e2-695fee5d2ac7",
   "metadata": {},
   "source": [
    "<strong>By comparing the count value for the 'age' feature and other features we can see that there are missing values in the 'age' feature (177 observations).\n",
    "We also see that the 'fare' feature has a strong variability.</strong>"
   ]
  },
  {
   "cell_type": "code",
   "execution_count": 28,
   "id": "8d735d49-9f1e-4d8d-b354-35fdcaaf5992",
   "metadata": {},
   "outputs": [
    {
     "name": "stdout",
     "output_type": "stream",
     "text": [
      "There is 177 missing values\n"
     ]
    }
   ],
   "source": [
    "#we can confirm with the following command :\n",
    "print(\"There is {} missing values\".format(len(titanic['age']) - titanic['age'].count()))\n",
    "#or the commands below\n",
    "#len(titanic['age'][titanic['age'].isnull()])"
   ]
  },
  {
   "cell_type": "markdown",
   "id": "1869ddea-e367-4e41-a380-4f088a272bef",
   "metadata": {},
   "source": [
    "Visualizing the target :"
   ]
  },
  {
   "cell_type": "code",
   "execution_count": 29,
   "id": "33d5c851-15fc-433d-8098-71a04d47b618",
   "metadata": {},
   "outputs": [
    {
     "name": "stdout",
     "output_type": "stream",
     "text": [
      "0    549\n",
      "1    342\n",
      "Name: survived, dtype: int64\n"
     ]
    },
    {
     "data": {
      "image/png": "[encoded data removed]",
      "text/plain": [
       "<Figure size 432x288 with 1 Axes>"
      ]
     },
     "metadata": {
      "needs_background": "light"
     },
     "output_type": "display_data"
    }
   ],
   "source": [
    "plt.figure()\n",
    "plt.bar(x=['Died', 'Survived'],\n",
    "        height=[list(titanic['survived']).count(0)/len(titanic['survived']),\n",
    "                list(titanic['survived']).count(1)/len(titanic['survived'])],\n",
    "        color=['red', 'blue'])\n",
    "plt.title(\"Barplot of survival variable\")\n",
    "print(titanic['survived'].value_counts())"
   ]
  },
  {
   "cell_type": "markdown",
   "id": "a694e9a4-a77d-497d-946a-b0ea43580427",
   "metadata": {},
   "source": [
    "<strong>We seen a class-disequilibrium (in favor of class 'died'). We should carefully choose the evaluation metric (some are biaised by class-disequilibrium). Thus choose another metrics than 'Accuracy'.</strong>"
   ]
  },
  {
   "cell_type": "markdown",
   "id": "58128709-beac-4d54-90be-737c189474fe",
   "metadata": {
    "jupyter": {
     "outputs_hidden": true
    },
    "tags": []
   },
   "source": [
    "Visualizing the relationships between continuous variables :"
   ]
  },
  {
   "cell_type": "code",
   "execution_count": 30,
   "id": "ae139759-b499-4b42-86a1-24b5f74e2a09",
   "metadata": {},
   "outputs": [
    {
     "data": {
      "text/plain": [
       "<seaborn.axisgrid.PairGrid at 0x7f242a097310>"
      ]
     },
     "execution_count": 30,
     "metadata": {},
     "output_type": "execute_result"
    },
    {
     "data": {
      "image/png": "[encoded data removed]",
      "text/plain": [
       "<Figure size 410.875x360 with 6 Axes>"
      ]
     },
     "metadata": {
      "needs_background": "light"
     },
     "output_type": "display_data"
    }
   ],
   "source": [
    "sns.pairplot(titanic, vars=['age', 'fare'], hue='survived', kind='scatter')"
   ]
  },
  {
   "cell_type": "markdown",
   "id": "d9638cab-138f-4793-b4a0-f2408846399c",
   "metadata": {},
   "source": [
    "<strong>Age and Fare features are unimodal.</br>\n",
    "Age seems to have a gaussian distribution while Fare seems to have an extreme distribution.</br>\n",
    "The plotting of the two variables together isn't really relevant for separation between Survived target modalities.</strong>"
   ]
  },
  {
   "cell_type": "code",
   "execution_count": 31,
   "id": "2147751a-0611-4e9f-b170-0316cfb810c6",
   "metadata": {},
   "outputs": [
    {
     "data": {
      "text/plain": [
       "Text(0.5, 1.0, \"'Age' feature distribution\")"
      ]
     },
     "execution_count": 31,
     "metadata": {},
     "output_type": "execute_result"
    },
    {
     "data": {
      "image/png": "[encoded data removed]",
      "text/plain": [
       "<Figure size 1440x504 with 2 Axes>"
      ]
     },
     "metadata": {
      "needs_background": "light"
     },
     "output_type": "display_data"
    }
   ],
   "source": [
    "figure = plt.figure(figsize=(20,7))\n",
    "age = figure.add_subplot(1,2,1)\n",
    "fare = figure.add_subplot(1,2,2)\n",
    "sns.boxplot(data=titanic['age'], orient='h', ax=age)\n",
    "sns.boxplot(data=titanic['fare'], orient='h', ax=fare)\n",
    "fare.set_xlim(-5, 175)\n",
    "fare.set_title(\"'Fare' feature distribution\")\n",
    "age.set_title(\"'Age' feature distribution\")"
   ]
  },
  {
   "cell_type": "markdown",
   "id": "a08f2539-3a45-4851-8408-0c18644e2b3c",
   "metadata": {},
   "source": [
    "<strong>'Age' has less outliers than 'Fare' feature (an outlier is designed as a data out of 1.5 the IQR). We remenbers that 'Fare' features has the highest variability among the features.<strong>"
   ]
  },
  {
   "cell_type": "markdown",
   "id": "8ef0626a-9c77-42df-bd31-03963fc8dd5b",
   "metadata": {},
   "source": [
    "Visualizing the relationships between categorical variables :"
   ]
  },
  {
   "cell_type": "code",
   "execution_count": 32,
   "id": "e2337ddc-8fb7-4138-855f-b858b3363bce",
   "metadata": {},
   "outputs": [
    {
     "name": "stderr",
     "output_type": "stream",
     "text": [
      "/home/anthony/miniconda3/envs/ML/lib/python3.9/site-packages/seaborn/_decorators.py:36: FutureWarning: Pass the following variable as a keyword arg: x. From version 0.12, the only valid positional argument will be `data`, and passing other arguments without an explicit keyword will result in an error or misinterpretation.\n",
      "  warnings.warn(\n"
     ]
    },
    {
     "data": {
      "text/plain": [
       "<AxesSubplot:xlabel='pclass', ylabel='count'>"
      ]
     },
     "execution_count": 32,
     "metadata": {},
     "output_type": "execute_result"
    },
    {
     "data": {
      "image/png": "[encoded data removed]",
      "text/plain": [
       "<Figure size 432x288 with 1 Axes>"
      ]
     },
     "metadata": {
      "needs_background": "light"
     },
     "output_type": "display_data"
    }
   ],
   "source": [
    "sns.countplot(titanic['pclass'])"
   ]
  },
  {
   "cell_type": "markdown",
   "id": "fd2d4320-152d-4b65-8f36-9ec710dbf3e3",
   "metadata": {},
   "source": [
    "<strong>We seen a class-disequilibrium (in favor of class 3).</strong>"
   ]
  },
  {
   "cell_type": "markdown",
   "id": "9bd7da0d-b51c-4b48-a653-6142fdb38933",
   "metadata": {},
   "source": [
    "<h3>3) Pre-Processing</h3>"
   ]
  },
  {
   "cell_type": "code",
   "execution_count": 33,
   "id": "08b6cf7f-f6f6-4beb-afa3-994cf9051e49",
   "metadata": {},
   "outputs": [],
   "source": [
    "from sklearn.model_selection import train_test_split\n",
    "from sklearn.preprocessing import OrdinalEncoder, OneHotEncoder\n",
    "from sklearn.impute import SimpleImputer\n",
    "from sklearn.preprocessing import StandardScaler, MinMaxScaler, RobustScaler"
   ]
  },
  {
   "cell_type": "markdown",
   "id": "7165a17a-e333-442a-9618-9a1f7f217f8f",
   "metadata": {},
   "source": [
    "Splitting dataset into train set and test set :"
   ]
  },
  {
   "cell_type": "code",
   "execution_count": 34,
   "id": "da54b054-5d0d-4a1b-9270-fa1aad217cd8",
   "metadata": {},
   "outputs": [
    {
     "name": "stdout",
     "output_type": "stream",
     "text": [
      "X train/test shapes: (712, 7)/(179, 7)\n",
      "Y train/test shapes: (179, 1)/(179, 1)\n"
     ]
    }
   ],
   "source": [
    "Y = titanic['survived'].values\n",
    "X = titanic.drop(axis=1, columns=['survived']).values\n",
    "\n",
    "X_train, X_test, Y_train, Y_test = train_test_split(X, Y, test_size=0.2, train_size=0.8, \n",
    "                                                    random_state=7, shuffle=True)\n",
    "Y_train = np.reshape(Y_train, newshape=(Y_train.shape[0], 1))\n",
    "Y_test = np.reshape(Y_test, newshape=(Y_test.shape[0], 1))\n",
    "print(\"X train/test shapes: {}/{}\".format(X_train.shape, X_test.shape))\n",
    "print(\"Y train/test shapes: {}/{}\".format(Y_test.shape, Y_test.shape))"
   ]
  },
  {
   "cell_type": "markdown",
   "id": "09e6df2f-a8b6-4e23-8d48-320b143f6e41",
   "metadata": {},
   "source": [
    "Removing/Replacing missing data :"
   ]
  },
  {
   "cell_type": "code",
   "execution_count": 35,
   "id": "4bd1082a-b5c7-44c5-a916-d20acd89d605",
   "metadata": {},
   "outputs": [],
   "source": [
    "imp = SimpleImputer(missing_values=np.nan, strategy='most_frequent')\n",
    "#we use an univariate imputer\n",
    "#we used 'most_frequent' strategy because it works with categorical variable too\n",
    "X_train = imp.fit_transform(X_train)\n",
    "X_test = imp.fit_transform(X_test)\n",
    "#we should use multivariate imputer like KNNImputer"
   ]
  },
  {
   "cell_type": "markdown",
   "id": "bea53164-7f81-461a-be70-247a00f86260",
   "metadata": {},
   "source": [
    "Encoding variables :"
   ]
  },
  {
   "cell_type": "code",
   "execution_count": 36,
   "id": "50030ef3-b524-4ce9-ae4b-887b56b0512d",
   "metadata": {
    "tags": []
   },
   "outputs": [],
   "source": [
    "encoder = OrdinalEncoder()\n",
    "X_train = encoder.fit_transform(X_train)\n",
    "X_test = encoder.fit_transform(X_test)"
   ]
  },
  {
   "cell_type": "markdown",
   "id": "4bec4d29-4283-41b0-a555-fe12899e821b",
   "metadata": {},
   "source": [
    "Feature selection :"
   ]
  },
  {
   "cell_type": "code",
   "execution_count": 37,
   "id": "3c3a4fe7-02e9-4d65-bda3-0b803727fdda",
   "metadata": {},
   "outputs": [
    {
     "data": {
      "text/html": [
       "<div>\n",
       "<style scoped>\n",
       "    .dataframe tbody tr th:only-of-type {\n",
       "        vertical-align: middle;\n",
       "    }\n",
       "\n",
       "    .dataframe tbody tr th {\n",
       "        vertical-align: top;\n",
       "    }\n",
       "\n",
       "    .dataframe thead th {\n",
       "        text-align: right;\n",
       "    }\n",
       "</style>\n",
       "<table border=\"1\" class=\"dataframe\">\n",
       "  <thead>\n",
       "    <tr style=\"text-align: right;\">\n",
       "      <th></th>\n",
       "      <th>pclass</th>\n",
       "      <th>sex</th>\n",
       "      <th>age</th>\n",
       "      <th>sibsp</th>\n",
       "      <th>parch</th>\n",
       "      <th>fare</th>\n",
       "      <th>alone</th>\n",
       "    </tr>\n",
       "  </thead>\n",
       "  <tbody>\n",
       "    <tr>\n",
       "      <th>0</th>\n",
       "      <td>2.0</td>\n",
       "      <td>0.0</td>\n",
       "      <td>5.0</td>\n",
       "      <td>0.0</td>\n",
       "      <td>1.0</td>\n",
       "      <td>60.0</td>\n",
       "      <td>0.0</td>\n",
       "    </tr>\n",
       "    <tr>\n",
       "      <th>1</th>\n",
       "      <td>2.0</td>\n",
       "      <td>1.0</td>\n",
       "      <td>29.0</td>\n",
       "      <td>0.0</td>\n",
       "      <td>0.0</td>\n",
       "      <td>87.0</td>\n",
       "      <td>1.0</td>\n",
       "    </tr>\n",
       "    <tr>\n",
       "      <th>2</th>\n",
       "      <td>0.0</td>\n",
       "      <td>0.0</td>\n",
       "      <td>48.0</td>\n",
       "      <td>1.0</td>\n",
       "      <td>1.0</td>\n",
       "      <td>196.0</td>\n",
       "      <td>0.0</td>\n",
       "    </tr>\n",
       "    <tr>\n",
       "      <th>3</th>\n",
       "      <td>2.0</td>\n",
       "      <td>1.0</td>\n",
       "      <td>80.0</td>\n",
       "      <td>0.0</td>\n",
       "      <td>0.0</td>\n",
       "      <td>24.0</td>\n",
       "      <td>1.0</td>\n",
       "    </tr>\n",
       "    <tr>\n",
       "      <th>4</th>\n",
       "      <td>2.0</td>\n",
       "      <td>1.0</td>\n",
       "      <td>29.0</td>\n",
       "      <td>0.0</td>\n",
       "      <td>0.0</td>\n",
       "      <td>11.0</td>\n",
       "      <td>1.0</td>\n",
       "    </tr>\n",
       "  </tbody>\n",
       "</table>\n",
       "</div>"
      ],
      "text/plain": [
       "   pclass  sex   age  sibsp  parch   fare  alone\n",
       "0     2.0  0.0   5.0    0.0    1.0   60.0    0.0\n",
       "1     2.0  1.0  29.0    0.0    0.0   87.0    1.0\n",
       "2     0.0  0.0  48.0    1.0    1.0  196.0    0.0\n",
       "3     2.0  1.0  80.0    0.0    0.0   24.0    1.0\n",
       "4     2.0  1.0  29.0    0.0    0.0   11.0    1.0"
      ]
     },
     "execution_count": 37,
     "metadata": {},
     "output_type": "execute_result"
    }
   ],
   "source": [
    "X_train = pd.DataFrame(X_train, columns=['pclass', 'sex', 'age', 'sibsp', 'parch', 'fare', 'alone'])\n",
    "X_test = pd.DataFrame(X_test, columns=['pclass', 'sex', 'age', 'sibsp', 'parch', 'fare', 'alone'])\n",
    "X_train.head()"
   ]
  },
  {
   "cell_type": "markdown",
   "id": "b443f4a9-0cca-4cb9-be01-95513b3e20bf",
   "metadata": {},
   "source": [
    "We decide to drop non relevant columns."
   ]
  },
  {
   "cell_type": "code",
   "execution_count": 38,
   "id": "c64e78cd-269d-4175-ba96-06e3e7aad9a5",
   "metadata": {},
   "outputs": [],
   "source": [
    "X_train = X_train.drop(axis=1, columns=['sibsp', 'parch']).values\n",
    "X_test = X_test.drop(axis=1, columns=['sibsp', 'parch']).values"
   ]
  },
  {
   "cell_type": "markdown",
   "id": "a7908670-75b5-480f-850b-56fd134f2949",
   "metadata": {},
   "source": [
    "Feature scaling :"
   ]
  },
  {
   "cell_type": "markdown",
   "id": "c1d89f53-a11c-40b5-9a22-1abb32ffcfee",
   "metadata": {},
   "source": [
    "MinMaxScaler and StandardScaler are not suitable for data with many outliers... We have seen, from previous boxplot that we have outliers,  especially for the 'fare' feature."
   ]
  },
  {
   "cell_type": "code",
   "execution_count": 39,
   "id": "58b5259d-7cf2-47dc-8736-5994b038d34e",
   "metadata": {},
   "outputs": [],
   "source": [
    "scaler = RobustScaler()\n",
    "X_train = scaler.fit_transform(X_train)\n",
    "X_test = scaler.fit_transform(X_test)"
   ]
  },
  {
   "cell_type": "markdown",
   "id": "c795b1fb-2673-4524-9b00-b0b49a4fdea8",
   "metadata": {},
   "source": [
    "<h3>4) Modelling</h3>"
   ]
  },
  {
   "cell_type": "code",
   "execution_count": 40,
   "id": "b5a26120-1c19-47ee-850f-5dcd87b7cbb2",
   "metadata": {},
   "outputs": [],
   "source": [
    "from sklearn.neighbors import KNeighborsClassifier\n",
    "from sklearn.model_selection import cross_val_score, validation_curve, GridSearchCV, StratifiedKFold, learning_curve\n",
    "from sklearn.metrics import f1_score"
   ]
  },
  {
   "cell_type": "markdown",
   "id": "b07e01c8-8e77-42c1-bb7b-ec3b34bbd53d",
   "metadata": {},
   "source": [
    "<h5>About K-Nearest Neighbors classification algorithm :</h5>\n",
    "<p>\"Classification is computed from a simple majority vote of the nearest neighbors of each point: a query point is assigned the data class which has the most representatives within the nearest neighbors of the point.\"</p>"
   ]
  },
  {
   "cell_type": "code",
   "execution_count": 41,
   "id": "bb121dd8-0ba7-4323-802a-d6e3b7c22b79",
   "metadata": {},
   "outputs": [],
   "source": [
    "#we choose a Stratified Kfold because we seems to have a class-disequilibrium in our target variable\n",
    "cv = StratifiedKFold(n_splits=5, shuffle=True)"
   ]
  },
  {
   "cell_type": "markdown",
   "id": "f3a2ae5b-4b63-4c55-8d1a-383369b39101",
   "metadata": {},
   "source": [
    "For none or one hyperparamater tuning :"
   ]
  },
  {
   "cell_type": "code",
   "execution_count": 42,
   "id": "55556970-df91-4cf1-9c48-a71a277594dd",
   "metadata": {},
   "outputs": [],
   "source": [
    "#training the model\n",
    "#'model.fit(X_train, Y_train)' is the simpliest case\n",
    "#cross_val_score(estimator=model, X=X_train, y=Y_train.reshape(Y_train.shape[0]), scoring='f1', cv=5) is a simple cross-validation, without hyperparameter tuning\n",
    "train_score, val_score = validation_curve(estimator=KNeighborsClassifier(),\n",
    "                                          X=X_train,\n",
    "                                          y=Y_train.reshape(Y_train.shape[0]),\n",
    "                                          param_name='n_neighbors',\n",
    "                                          param_range=np.arange(1, 15),\n",
    "                                          cv=cv)"
   ]
  },
  {
   "cell_type": "markdown",
   "id": "89072c20-b514-4e18-947d-41f9dccedadc",
   "metadata": {},
   "source": [
    "We obtain a nxm array where n is the hyperparameter range and m is the number of cross-validation fold. Thus each line represents an hyperparameter value and each column represents a score obtained by cross-validation for a particular split."
   ]
  },
  {
   "cell_type": "code",
   "execution_count": 43,
   "id": "b9a53985-39ef-4c89-a874-9608e1728292",
   "metadata": {},
   "outputs": [
    {
     "data": {
      "text/plain": [
       "Text(0, 0.5, 'scores')"
      ]
     },
     "execution_count": 43,
     "metadata": {},
     "output_type": "execute_result"
    },
    {
     "data": {
      "image/png": "[encoded data removed]",
      "text/plain": [
       "<Figure size 432x288 with 1 Axes>"
      ]
     },
     "metadata": {
      "needs_background": "light"
     },
     "output_type": "display_data"
    }
   ],
   "source": [
    "#displaying cross_validation scores for each hyperparamater value\n",
    "figure = plt.figure()\n",
    "main_ax = figure.add_subplot(1, 1, 1)\n",
    "main_ax.plot(np.arange(1 ,15), train_score.mean(axis=1), c='b',label='train score')\n",
    "main_ax.plot(np.arange(1 ,15), val_score.mean(axis=1), c='r', label='validation score')\n",
    "main_ax.legend()\n",
    "main_ax.set_title('Cross validation scores trough n_neighbors parameters')\n",
    "main_ax.set_xlabel('n_neighbors')\n",
    "main_ax.set_ylabel('scores')"
   ]
  },
  {
   "cell_type": "markdown",
   "id": "a0ded51e-47a6-4a4b-a283-8021898786a5",
   "metadata": {},
   "source": [
    "For multiple hyperparameters tuning :"
   ]
  },
  {
   "cell_type": "code",
   "execution_count": 44,
   "id": "b55b9309-9541-4b8d-b295-6ae1bf02cfcc",
   "metadata": {
    "tags": []
   },
   "outputs": [
    {
     "name": "stdout",
     "output_type": "stream",
     "text": [
      "0.7648691027109514\n",
      "{'metric': 'euclidean', 'n_neighbors': 7, 'weights': 'uniform'}\n"
     ]
    }
   ],
   "source": [
    "param_grid = {\n",
    "    \"n_neighbors\":np.arange(1, 15),\n",
    "    \"metric\":['euclidean','manhattan'],\n",
    "    \"weights\":['uniform', 'distance']\n",
    "}\n",
    "grid = GridSearchCV(estimator=KNeighborsClassifier(),\n",
    "                   param_grid=param_grid,\n",
    "                   scoring='f1',\n",
    "                   cv=cv)\n",
    "grid.fit(X_train, Y_train.reshape(Y_train.shape[0]))\n",
    "print(grid.best_score_) #validation score\n",
    "print(grid.best_params_)\n",
    "best_model = grid.best_estimator_"
   ]
  },
  {
   "cell_type": "code",
   "execution_count": 45,
   "id": "559dcd09-62d4-41e9-a710-350baa74a360",
   "metadata": {},
   "outputs": [],
   "source": [
    "#saving model\n",
    "import pickle\n",
    "pickle.dump(obj=best_model, file=open('../models/titanic.sav', 'wb'))"
   ]
  },
  {
   "cell_type": "code",
   "execution_count": 46,
   "id": "ec5e692e-fd7a-41ef-9001-52d75f8e61ff",
   "metadata": {},
   "outputs": [
    {
     "name": "stdout",
     "output_type": "stream",
     "text": [
      "F-score for test dataset: 69.29%\n",
      "Accuracy for test dataset: 78.21%\n"
     ]
    }
   ],
   "source": [
    "#testing the model\n",
    "print(\"F-score for test dataset: {:.2f}%\".format(f1_score(y_true=Y_test, y_pred=best_model.predict(X_test))*100))\n",
    "print(\"Accuracy for test dataset: {:.2f}%\".format(best_model.score(X_test, Y_test)*100))"
   ]
  },
  {
   "cell_type": "markdown",
   "id": "7731cc31-fc0f-44d9-8698-254ab8ff1731",
   "metadata": {},
   "source": [
    "Learning curve :"
   ]
  },
  {
   "cell_type": "code",
   "execution_count": 50,
   "id": "ab360da6-6cfb-41f4-9b1f-ee9168819b33",
   "metadata": {},
   "outputs": [],
   "source": [
    "import pickle\n",
    "best_model = pickle.load(open('../models/titanic.sav', 'rb'))\n",
    "\n",
    "N, train_score, val_score = learning_curve(estimator=best_model,\n",
    "                                           X=X_train,\n",
    "                                           y=Y_train.reshape(Y_train.shape[0]),\n",
    "                                           cv=cv,\n",
    "                                           train_sizes=np.linspace(0.1, 1.0, 10),\n",
    "                                           scoring='accuracy')"
   ]
  },
  {
   "cell_type": "code",
   "execution_count": 51,
   "id": "5ec7c0f6-0bf1-4fcf-96d2-3c446d2290d3",
   "metadata": {},
   "outputs": [
    {
     "data": {
      "text/plain": [
       "Text(0.5, 0, 'Size of the batch')"
      ]
     },
     "execution_count": 51,
     "metadata": {},
     "output_type": "execute_result"
    },
    {
     "data": {
      "image/png": "[encoded data removed]",
      "text/plain": [
       "<Figure size 432x288 with 1 Axes>"
      ]
     },
     "metadata": {
      "needs_background": "light"
     },
     "output_type": "display_data"
    }
   ],
   "source": [
    "fig = plt.figure()\n",
    "ax = fig.add_subplot(1, 1, 1)\n",
    "ax.plot(N, train_score.mean(axis=1), c='b', label='train_score')\n",
    "ax.plot(N, val_score.mean(axis=1), c='r', label='val_score')\n",
    "ax.legend()\n",
    "ax.set_title('Learning curve for Titanic dataset')\n",
    "ax.set_ylabel('score')\n",
    "ax.set_xlabel('Size of the batch')"
   ]
  },
  {
   "cell_type": "markdown",
   "id": "ec1d6bd3-27f1-4cba-b4ed-a701836b914f",
   "metadata": {},
   "source": [
    "<p><strong>We observe a plateaus starting at n=400 (for accuracy metrics), so it is not valuable to have more data.</strong></p>"
   ]
  }
 ],
 "metadata": {
  "kernelspec": {
   "display_name": "Python 3",
   "language": "python",
   "name": "python3"
  },
  "language_info": {
   "codemirror_mode": {
    "name": "ipython",
    "version": 3
   },
   "file_extension": ".py",
   "mimetype": "text/x-python",
   "name": "python",
   "nbconvert_exporter": "python",
   "pygments_lexer": "ipython3",
   "version": "3.9.2"
  }
 },
 "nbformat": 4,
 "nbformat_minor": 5
}
