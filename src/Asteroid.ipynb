{
 "cells": [
  {
   "cell_type": "markdown",
   "id": "30c5190a-1071-4908-9299-9f83cb4b85b0",
   "metadata": {},
   "source": [
    "<div style='display: flex;'>\n",
    "    <h1>Machine Learning on Asteroid dataset</h1>\n",
    "    <img src='asteroid.jpeg' height='100px' width='75px'/>\n",
    "</div>"
   ]
  },
  {
   "cell_type": "markdown",
   "id": "4a0360d9-f2f7-4105-806e-768cff226ba2",
   "metadata": {},
   "source": [
    "<div style=\"border: 1px dashed black;\n",
    "            padding: 10px 10px 10px 10px;\">\n",
    "    <h4>Machine Learning general workflow :</h4>\n",
    "    <ol>\n",
    "        <li><a href='#part1'>Defining a quantitative objective</a></li>\n",
    "        <li><a href='#part2'>EDA (Exploratory Data Analysis):</a> Understanding as much as possible the data in order to define modelling strategy.\n",
    "        <ul>\n",
    "            <li><a href='#part2.1'><span style=\"color: blue;\">Number of rows and columns</span></a></li>\n",
    "            <li><a href='#part2.2'><span style=\"color: blue;\">Identifying the target</span></a></li>\n",
    "            <li><a href='#part2.3'><span style=\"color: blue;\">Variables types</span></a></li>\n",
    "            <li><a href='#part2.4'><span style=\"color: blue;\">Identification of missing values</span></a></li>\n",
    "            <li><a href='#part2.5'><span style=\"color: red;\">Visualizing the target</span></a></li>\n",
    "            <li><a href='#part2.6'><span style=\"color: red;\">Understanding all the variables</span></a></li>\n",
    "            <li><a href='#part2.7'><span style=\"color: red;\">Visualizing relationships between the target and the features</span></li>\n",
    "            <li><a href='#part2.8'><span style=\"color: red;\">Identifying outliers</span></a></li>\n",
    "        </ul></li>\n",
    "        <li><a href='#part3'>Pre-Processing: </a>Transforming the data in order to have a proper input for modelling.\n",
    "        <ul>\n",
    "            <li>Splitting data into Train set and Test set</li>\n",
    "            <li>Removing/Replacing NA</li>\n",
    "            <li>Encoding variables</li>\n",
    "            <li>Removing outliers which drop down model performances</li>\n",
    "            <li>Feature selection</li>\n",
    "            <li>Feature engineering</li>\n",
    "            <li>Feature scaling</li>\n",
    "        </ul></li>\n",
    "        <li><a href='#part4'>Modelling: </a> Giving answer to the former objective.\n",
    "        <ul>\n",
    "            <li>Defining a scoring function</li>\n",
    "            <li>Training of the differents models</li>\n",
    "            <li>Optimization with GridSearchCV</li>\n",
    "            <li>(Optional) Analysis of errors and go back to EDA/Pre processing</li>\n",
    "            <li>Learning curve and decision</li>\n",
    "        </ul></li>\n",
    "    </ol>\n",
    "    <p>(<span style=\"color: blue;\">*=\"front-end\" part</span>, <br/>\n",
    "        <span style=\"color: red;\">*=\"back-end\" part</span>)</p>\n",
    "          <a href='https://scikit-learn.org/stable/index.html#' target='_blank'>See Scikit-Learn documentation</a>\n",
    "        <br/>\n",
    "        <a href='https://scikit-learn.org/stable/tutorial/machine_learning_map/index.html' target='_blank'>See Scikit-Learn scheme for choosing the right model</a>\n",
    "        <br/>\n",
    "        <a href='https://www.datacourses.com/classification-model-evaluation-metrics-in-scikit-learn-924/', target='_blank'>See external ressouces about classification metrics</a>\n",
    "    </p>\n",
    "</div>"
   ]
  },
  {
   "cell_type": "markdown",
   "id": "50b2598b-02e5-4b89-9c51-fed3b8150d54",
   "metadata": {},
   "source": [
    "Data can be found at <a href='https://www.kaggle.com/sakhawat18/asteroid-dataset/' target='_blank'>https://www.kaggle.com/sakhawat18/asteroid-dataset/</a>"
   ]
  },
  {
   "cell_type": "markdown",
   "id": "fe190c75-1bab-491d-8aaa-5b5bc5cfc44d",
   "metadata": {},
   "source": [
    "<h2>1) Objective</h2>"
   ]
  },
  {
   "cell_type": "markdown",
   "id": "3424138d-5878-407b-a6f1-fe0e7b8b1e36",
   "metadata": {},
   "source": [
    "<h2>2) EDA</h2>"
   ]
  },
  {
   "cell_type": "code",
   "execution_count": null,
   "id": "28fad52e-15f7-4a73-b237-2e78360af112",
   "metadata": {},
   "outputs": [],
   "source": [
    "import numpy as np\n",
    "import pandas as pd\n",
    "import matplotlib.pyplot as plt\n",
    "import seaborn as sns"
   ]
  },
  {
   "cell_type": "code",
   "execution_count": null,
   "id": "c7240953-892e-4eb1-bb79-f0cb82b9e0ed",
   "metadata": {},
   "outputs": [],
   "source": []
  }
 ],
 "metadata": {
  "kernelspec": {
   "display_name": "Python 3 (ipykernel)",
   "language": "python",
   "name": "python3"
  },
  "language_info": {
   "codemirror_mode": {
    "name": "ipython",
    "version": 3
   },
   "file_extension": ".py",
   "mimetype": "text/x-python",
   "name": "python",
   "nbconvert_exporter": "python",
   "pygments_lexer": "ipython3",
   "version": "3.6.13"
  }
 },
 "nbformat": 4,
 "nbformat_minor": 5
}
