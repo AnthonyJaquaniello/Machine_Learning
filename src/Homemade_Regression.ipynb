{
 "cells": [
  {
   "cell_type": "markdown",
   "id": "adverse-monthly",
   "metadata": {},
   "source": [
    "<h1>Machine Learning : Home-made Regression</h1>"
   ]
  },
  {
   "cell_type": "code",
   "execution_count": 28,
   "id": "small-decimal",
   "metadata": {},
   "outputs": [
    {
     "name": "stdout",
     "output_type": "stream",
     "text": [
      "Using matplotlib backend: module://ipympl.backend_nbagg\n"
     ]
    }
   ],
   "source": [
    "import numpy as np\n",
    "from sklearn.datasets import make_regression\n",
    "import matplotlib.pyplot as plt\n",
    "from mpl_toolkits import mplot3d\n",
    "\n",
    "%matplotlib\n",
    "np.random.seed(74628)"
   ]
  },
  {
   "cell_type": "markdown",
   "id": "underlying-capitol",
   "metadata": {},
   "source": [
    "Most of the code here could be reduce to a few sklearn function. But for comprehension it is good to understand the process in depth."
   ]
  },
  {
   "cell_type": "code",
   "execution_count": 29,
   "id": "greenhouse-investor",
   "metadata": {},
   "outputs": [],
   "source": [
    "#Model Building and Evaluating functions\n",
    "def model(x, teta):\n",
    "    return (x.dot(teta))\n",
    "\n",
    "def cost_function(x, y, teta):\n",
    "    m = len(y)\n",
    "    return((1/(2*m))*np.sum((model(x, teta)-y)**2))\n",
    "\n",
    "def gradient(x, y, teta):\n",
    "    m = len(y)\n",
    "    return((1/m)*x.T.dot((model(x, teta)-y)))\n",
    "\n",
    "def steepest_descent(teta, lr, x, y, n_iter):\n",
    "    cost_history = []\n",
    "    for i in range(n_iter):\n",
    "        teta = teta - lr*gradient(x, y, teta)\n",
    "        cost_history.append(cost_function(x, y, teta))\n",
    "    return(teta, cost_history)\n",
    "\n",
    "def coeff_determination(y_pred, y):\n",
    "    u = np.sum((y - y_pred)**2)\n",
    "    v = np.sum((y - np.mean(y))**2)\n",
    "    return(1 - (u/v))"
   ]
  },
  {
   "cell_type": "markdown",
   "id": "overall-federal",
   "metadata": {},
   "source": [
    "<h2>1) Simple Linear Regression Models</h2>"
   ]
  },
  {
   "cell_type": "markdown",
   "id": "viral-equity",
   "metadata": {},
   "source": [
    "<h3>A) Random Problem</h3>"
   ]
  },
  {
   "cell_type": "markdown",
   "id": "delayed-piece",
   "metadata": {},
   "source": [
    "Generating and processing the data:"
   ]
  },
  {
   "cell_type": "code",
   "execution_count": 30,
   "id": "assisted-cuisine",
   "metadata": {},
   "outputs": [
    {
     "name": "stdout",
     "output_type": "stream",
     "text": [
      "(100, 1)\n",
      "(100, 1)\n"
     ]
    }
   ],
   "source": [
    "x, y = make_regression(n_samples=100, n_features=1, noise=10)\n",
    "#we have to reshape y. x and y must have the same shape\n",
    "y = y.reshape(100, 1)\n",
    "print(y.shape)\n",
    "print(x.shape)"
   ]
  },
  {
   "cell_type": "code",
   "execution_count": 31,
   "id": "posted-mongolia",
   "metadata": {},
   "outputs": [
    {
     "data": {
      "application/vnd.jupyter.widget-view+json": {
       "model_id": "57181a31bf34484f99accb5842999513",
       "version_major": 2,
       "version_minor": 0
      },
      "text/plain": [
       "Canvas(toolbar=Toolbar(toolitems=[('Home', 'Reset original view', 'home', 'home'), ('Back', 'Back to previous …"
      ]
     },
     "metadata": {},
     "output_type": "display_data"
    },
    {
     "data": {
      "text/plain": [
       "Text(0, 0.5, 'y')"
      ]
     },
     "execution_count": 31,
     "metadata": {},
     "output_type": "execute_result"
    }
   ],
   "source": [
    "plt.scatter(x=x, y=y)\n",
    "plt.xlabel(\"x\")\n",
    "plt.ylabel(\"y\")"
   ]
  },
  {
   "cell_type": "code",
   "execution_count": 4,
   "id": "opposite-cloud",
   "metadata": {
    "tags": []
   },
   "outputs": [
    {
     "name": "stdout",
     "output_type": "stream",
     "text": [
      "(100, 2)\n"
     ]
    }
   ],
   "source": [
    "#we use a matrix implementation of 'y = ax + b' : 'Y = XO' where O (teta) is a vector contaning a and b\n",
    "x = np.hstack(tup=(x, np.ones(x.shape)))\n",
    "print(x.shape)"
   ]
  },
  {
   "cell_type": "code",
   "execution_count": 5,
   "id": "unnecessary-guidance",
   "metadata": {},
   "outputs": [
    {
     "name": "stdout",
     "output_type": "stream",
     "text": [
      "(2, 1)\n"
     ]
    }
   ],
   "source": [
    "#we randomly initialize a and b parameter, inside the teta vector\n",
    "teta = np.array(np.random.randn(2, 1))\n",
    "print(teta.shape)"
   ]
  },
  {
   "cell_type": "markdown",
   "id": "ongoing-adaptation",
   "metadata": {},
   "source": [
    "Building Model"
   ]
  },
  {
   "cell_type": "code",
   "execution_count": 7,
   "id": "accredited-hearts",
   "metadata": {
    "tags": []
   },
   "outputs": [
    {
     "name": "stdout",
     "output_type": "stream",
     "text": [
      "a =  [-0.53631517]\n",
      "b =  [-3.38777987]\n"
     ]
    },
    {
     "data": {
      "image/png": "[encoded data removed]",
      "text/plain": [
       "<Figure size 432x288 with 1 Axes>"
      ]
     },
     "metadata": {
      "needs_background": "light"
     },
     "output_type": "display_data"
    }
   ],
   "source": [
    "teta_optim, cost_history = steepest_descent(teta, 0.01, x, y, 5000)\n",
    "predict = model(x, teta_optim)\n",
    "plt.scatter(x=x[:, 0].reshape(y.shape[0], 1), y=y)\n",
    "plt.plot(x[:, 0].reshape(y.shape[0], 1), predict, 'r')\n",
    "plt.xlabel(\"x\")\n",
    "plt.ylabel(\"y\")\n",
    "print(\"a = \", teta[0])\n",
    "print(\"b = \", teta[1])"
   ]
  },
  {
   "cell_type": "markdown",
   "id": "apart-response",
   "metadata": {},
   "source": [
    "Evaluating the model"
   ]
  },
  {
   "cell_type": "code",
   "execution_count": 8,
   "id": "headed-porter",
   "metadata": {},
   "outputs": [
    {
     "data": {
      "text/plain": [
       "Text(0.5, 0, 'iteration')"
      ]
     },
     "execution_count": 8,
     "metadata": {},
     "output_type": "execute_result"
    },
    {
     "data": {
      "image/png": "[encoded data removed]",
      "text/plain": [
       "<Figure size 432x288 with 1 Axes>"
      ]
     },
     "metadata": {
      "needs_background": "light"
     },
     "output_type": "display_data"
    }
   ],
   "source": [
    "#Viewing the learning process\n",
    "plt.plot(cost_history)\n",
    "plt.title(\"Evolution of cost function trough minimisation\")\n",
    "plt.ylabel(\"Cost function\")\n",
    "plt.xlabel(\"iteration\")"
   ]
  },
  {
   "cell_type": "code",
   "execution_count": 10,
   "id": "complex-battlefield",
   "metadata": {},
   "outputs": [
    {
     "name": "stdout",
     "output_type": "stream",
     "text": [
      "R² =  0.7607815910915239\n",
      "76.08% of the dataset variance is explained by the model\n"
     ]
    }
   ],
   "source": [
    "print(\"R² = \", coeff_determination(predict, y))\n",
    "print(\"{:.2f}% of the dataset variance is explained by the model\".\n",
    "      format(coeff_determination(predict, y)*100))"
   ]
  },
  {
   "cell_type": "markdown",
   "id": "selective-engineering",
   "metadata": {},
   "source": [
    "<h2>2) Polynomial Regression Model</h2>"
   ]
  },
  {
   "cell_type": "markdown",
   "id": "critical-satellite",
   "metadata": {},
   "source": [
    "<h3>A) Random Problem</h3>"
   ]
  },
  {
   "cell_type": "markdown",
   "id": "critical-mistress",
   "metadata": {},
   "source": [
    "Generating and processing the data :"
   ]
  },
  {
   "cell_type": "code",
   "execution_count": 11,
   "id": "separate-usage",
   "metadata": {},
   "outputs": [
    {
     "name": "stdout",
     "output_type": "stream",
     "text": [
      "(100, 1)\n",
      "(100, 1)\n"
     ]
    }
   ],
   "source": [
    "x, y = make_regression(n_samples=100, n_features=1, noise=10)\n",
    "#we have to reshape y. x and y must have the same shape\n",
    "y = y + abs(y/2)\n",
    "y = y.reshape(100, 1)\n",
    "print(y.shape)\n",
    "print(x.shape)"
   ]
  },
  {
   "cell_type": "code",
   "execution_count": 12,
   "id": "gothic-green",
   "metadata": {},
   "outputs": [
    {
     "data": {
      "text/plain": [
       "Text(0, 0.5, 'y')"
      ]
     },
     "execution_count": 12,
     "metadata": {},
     "output_type": "execute_result"
    },
    {
     "data": {
      "image/png": "[encoded data removed]",
      "text/plain": [
       "<Figure size 432x288 with 1 Axes>"
      ]
     },
     "metadata": {
      "needs_background": "light"
     },
     "output_type": "display_data"
    }
   ],
   "source": [
    "plt.scatter(x=x, y=y)\n",
    "plt.xlabel(\"x\")\n",
    "plt.ylabel(\"y\")"
   ]
  },
  {
   "cell_type": "code",
   "execution_count": 13,
   "id": "macro-worth",
   "metadata": {},
   "outputs": [
    {
     "name": "stdout",
     "output_type": "stream",
     "text": [
      "(100, 3)\n"
     ]
    }
   ],
   "source": [
    "#we use a matrix implementation of 'y = ax² + bx +c' : 'Y = XO' where O (teta) is a vector contaning a ,b, and c\n",
    "#we only have to change X and teta !\n",
    "X = np.hstack(tup=(x, np.ones(x.shape)))\n",
    "X = np.hstack(tup=(x**2, X))\n",
    "print(X.shape)"
   ]
  },
  {
   "cell_type": "code",
   "execution_count": 14,
   "id": "brilliant-browser",
   "metadata": {},
   "outputs": [
    {
     "name": "stdout",
     "output_type": "stream",
     "text": [
      "(3, 1)\n"
     ]
    }
   ],
   "source": [
    "#we randomly initialize a, b, and c parameter, inside the teta vector\n",
    "teta = np.array(np.random.randn(3, 1))\n",
    "print(teta.shape)"
   ]
  },
  {
   "cell_type": "markdown",
   "id": "consecutive-latter",
   "metadata": {},
   "source": [
    "Training the model :"
   ]
  },
  {
   "cell_type": "code",
   "execution_count": 15,
   "id": "endless-success",
   "metadata": {},
   "outputs": [
    {
     "name": "stdout",
     "output_type": "stream",
     "text": [
      "a =  [-1.00140197]\n",
      "b =  [0.27153443]\n",
      "c =  [0.67970395]\n"
     ]
    },
    {
     "data": {
      "image/png": "[encoded data removed]",
      "text/plain": [
       "<Figure size 432x288 with 1 Axes>"
      ]
     },
     "metadata": {
      "needs_background": "light"
     },
     "output_type": "display_data"
    }
   ],
   "source": [
    "teta_optim, cost_history = steepest_descent(teta, 0.01, X, y, 5000)\n",
    "predict = model(X, teta_optim)\n",
    "plt.scatter(x=x[:, 0], y=y)\n",
    "plt.scatter(x=x[:, 0], y=predict, c='r')\n",
    "plt.xlabel(\"x\")\n",
    "plt.ylabel(\"y\")\n",
    "print(\"a = \", teta[0])\n",
    "print(\"b = \", teta[1])\n",
    "print(\"c = \", teta[2])"
   ]
  },
  {
   "cell_type": "markdown",
   "id": "fluid-barbados",
   "metadata": {},
   "source": [
    "Evaluating the model :"
   ]
  },
  {
   "cell_type": "code",
   "execution_count": 16,
   "id": "greater-tokyo",
   "metadata": {},
   "outputs": [
    {
     "data": {
      "text/plain": [
       "Text(0.5, 0, 'iteration')"
      ]
     },
     "execution_count": 16,
     "metadata": {},
     "output_type": "execute_result"
    },
    {
     "data": {
      "image/png": "[encoded data removed]",
      "text/plain": [
       "<Figure size 432x288 with 1 Axes>"
      ]
     },
     "metadata": {
      "needs_background": "light"
     },
     "output_type": "display_data"
    }
   ],
   "source": [
    "#Viewing the learning process\n",
    "plt.plot(cost_history)\n",
    "plt.title(\"Evolution of cost function trough minimisation\")\n",
    "plt.ylabel(\"Cost function\")\n",
    "plt.xlabel(\"iteration\")"
   ]
  },
  {
   "cell_type": "code",
   "execution_count": 17,
   "id": "different-gothic",
   "metadata": {},
   "outputs": [
    {
     "name": "stdout",
     "output_type": "stream",
     "text": [
      "R² =  0.9489319975649504\n",
      "94.89% of the dataset variance is explained by the model\n"
     ]
    }
   ],
   "source": [
    "print(\"R² = \", coeff_determination(predict, y))\n",
    "print(\"{:.2f}% of the dataset variance is explained by the model\".\n",
    "      format(coeff_determination(predict, y)*100))"
   ]
  },
  {
   "cell_type": "markdown",
   "id": "gross-reader",
   "metadata": {},
   "source": [
    "<h2>3) Multiple Linear Regression Model</h2>"
   ]
  },
  {
   "cell_type": "markdown",
   "id": "electoral-wichita",
   "metadata": {},
   "source": [
    "<h3>A) Random Problem</h3>"
   ]
  },
  {
   "cell_type": "markdown",
   "id": "recovered-stuart",
   "metadata": {},
   "source": [
    "Generating and Processing data :"
   ]
  },
  {
   "cell_type": "code",
   "execution_count": 32,
   "id": "legal-exposure",
   "metadata": {},
   "outputs": [
    {
     "name": "stdout",
     "output_type": "stream",
     "text": [
      "(100, 1)\n",
      "(100, 2)\n"
     ]
    }
   ],
   "source": [
    "x, y = make_regression(n_samples=100, n_features=2, noise=10)\n",
    "y = y.reshape(100, 1)\n",
    "print(y.shape)\n",
    "print(x.shape)"
   ]
  },
  {
   "cell_type": "code",
   "execution_count": 33,
   "id": "urban-norfolk",
   "metadata": {},
   "outputs": [
    {
     "data": {
      "application/vnd.jupyter.widget-view+json": {
       "model_id": "25309ee547414525a2777c234b4a045b",
       "version_major": 2,
       "version_minor": 0
      },
      "text/plain": [
       "Canvas(toolbar=Toolbar(toolitems=[('Home', 'Reset original view', 'home', 'home'), ('Back', 'Back to previous …"
      ]
     },
     "metadata": {},
     "output_type": "display_data"
    },
    {
     "data": {
      "text/plain": [
       "Text(0.5, 0, 'X2')"
      ]
     },
     "execution_count": 33,
     "metadata": {},
     "output_type": "execute_result"
    }
   ],
   "source": [
    "#Visualising\n",
    "%matplotlib widget\n",
    "figure = plt.figure(figsize=(15,8))\n",
    "ax = plt.axes(projection='3d')\n",
    "ax.scatter3D(xs=x[:, 0], ys=y, zs=x[:, 1], c='b')\n",
    "ax.set_xlabel('X1')\n",
    "ax.set_zlabel('Y')\n",
    "ax.set_ylabel('X2')"
   ]
  },
  {
   "cell_type": "code",
   "execution_count": 34,
   "id": "extraordinary-patrol",
   "metadata": {},
   "outputs": [
    {
     "name": "stdout",
     "output_type": "stream",
     "text": [
      "(100, 3)\n"
     ]
    }
   ],
   "source": [
    "#We want a model : Y = a1*X1 + a2*X2 + b where X1 and X2 are predictives variables\n",
    "X = np.hstack(tup=(x, np.ones(shape=(x.shape[0], 1))))\n",
    "print(X.shape)"
   ]
  },
  {
   "cell_type": "code",
   "execution_count": 35,
   "id": "adverse-source",
   "metadata": {},
   "outputs": [
    {
     "name": "stdout",
     "output_type": "stream",
     "text": [
      "(3, 1)\n"
     ]
    }
   ],
   "source": [
    "#we randomly initialize a1, a2, and b parameter, inside the teta vector\n",
    "teta = np.array(np.random.randn(3, 1))\n",
    "print(teta.shape)"
   ]
  },
  {
   "cell_type": "markdown",
   "id": "greek-nurse",
   "metadata": {},
   "source": [
    "Training the model :"
   ]
  },
  {
   "cell_type": "code",
   "execution_count": 36,
   "id": "defined-jason",
   "metadata": {
    "tags": []
   },
   "outputs": [],
   "source": [
    "teta_optim, cost_history = steepest_descent(teta, 0.01, X, y, 5000)\n",
    "predict = model(X, teta_optim)"
   ]
  },
  {
   "cell_type": "code",
   "execution_count": 38,
   "id": "opening-convenience",
   "metadata": {},
   "outputs": [
    {
     "data": {
      "application/vnd.jupyter.widget-view+json": {
       "model_id": "1d0892cf23384557ad69cdba26d8a880",
       "version_major": 2,
       "version_minor": 0
      },
      "text/plain": [
       "Canvas(toolbar=Toolbar(toolitems=[('Home', 'Reset original view', 'home', 'home'), ('Back', 'Back to previous …"
      ]
     },
     "metadata": {},
     "output_type": "display_data"
    },
    {
     "data": {
      "text/plain": [
       "Text(0.5, 0, 'X2')"
      ]
     },
     "execution_count": 38,
     "metadata": {},
     "output_type": "execute_result"
    }
   ],
   "source": [
    "%matplotlib widget\n",
    "figure = plt.figure(figsize=(15,8))\n",
    "ax = plt.axes(projection='3d')\n",
    "ax.scatter3D(xs=X[:, 0], ys=y, zs=X[:, 1], c='b')\n",
    "ax.scatter3D(xs=X[:, 0], ys=predict, zs=X[:, 1], c='r')\n",
    "ax.set_xlabel('X1')\n",
    "ax.set_zlabel('Y')\n",
    "ax.set_ylabel('X2')"
   ]
  },
  {
   "cell_type": "markdown",
   "id": "flexible-voice",
   "metadata": {},
   "source": [
    "Evaluating the model :"
   ]
  },
  {
   "cell_type": "code",
   "execution_count": 12,
   "id": "adjacent-threshold",
   "metadata": {},
   "outputs": [
    {
     "data": {
      "text/plain": [
       "Text(0.5, 0, 'iteration')"
      ]
     },
     "execution_count": 12,
     "metadata": {},
     "output_type": "execute_result"
    },
    {
     "data": {
      "image/png": "[encoded data removed]",
      "text/plain": [
       "<Figure size 432x288 with 1 Axes>"
      ]
     },
     "metadata": {
      "needs_background": "light"
     },
     "output_type": "display_data"
    }
   ],
   "source": [
    "#Viewing the learning process\n",
    "%matplotlib inline\n",
    "plt.plot(cost_history)\n",
    "plt.title(\"Evolution of cost function trough minimisation\")\n",
    "plt.ylabel(\"Cost function\")\n",
    "plt.xlabel(\"iteration\")"
   ]
  },
  {
   "cell_type": "code",
   "execution_count": 16,
   "id": "combined-interface",
   "metadata": {},
   "outputs": [
    {
     "name": "stdout",
     "output_type": "stream",
     "text": [
      "R² =  0.9849795670974101\n",
      "98.50% of the dataset variance is explained by the model\n"
     ]
    }
   ],
   "source": [
    "print(\"R² = \", coeff_determination(predict, y))\n",
    "print(\"{:.2f}% of the dataset variance is explained by the model\".\n",
    "      format(coeff_determination(predict, y)*100))"
   ]
  },
  {
   "cell_type": "code",
   "execution_count": null,
   "id": "seasonal-static",
   "metadata": {},
   "outputs": [],
   "source": []
  }
 ],
 "metadata": {
  "kernelspec": {
   "display_name": "Python 3",
   "language": "python",
   "name": "python3"
  },
  "language_info": {
   "codemirror_mode": {
    "name": "ipython",
    "version": 3
   },
   "file_extension": ".py",
   "mimetype": "text/x-python",
   "name": "python",
   "nbconvert_exporter": "python",
   "pygments_lexer": "ipython3",
   "version": "3.9.2"
  }
 },
 "nbformat": 4,
 "nbformat_minor": 5
}
